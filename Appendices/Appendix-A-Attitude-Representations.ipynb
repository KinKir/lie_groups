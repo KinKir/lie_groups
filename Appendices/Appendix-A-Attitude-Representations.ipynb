{
 "cells": [
  {
   "cell_type": "markdown",
   "metadata": {},
   "source": [
    "[Table of Contents](table_of_contents.ipynb)"
   ]
  },
  {
   "cell_type": "markdown",
   "metadata": {},
   "source": [
    "# Appendix A. Common Attitude Representations"
   ]
  },
  {
   "cell_type": "markdown",
   "metadata": {},
   "source": [
    "[Introduction](#Introduction)"
   ]
  },
  {
   "cell_type": "markdown",
   "metadata": {},
   "source": [
    "## Introduction"
   ]
  },
  {
   "cell_type": "markdown",
   "metadata": {},
   "source": [
    "A point in 3D space can be thought of as a vector pointing from the origin to the point. This vector, when described in a frame of reference, is fully parameterized by three scalars. Being a vector, it inherits all of the beneficial mathematical properties of a vector space, including associativity and commutativity of addition, the identity and inverse elements, and scalar multiplication.\n",
    "\n",
    "Attitude, on the other hand, is not so elegant. While it is true, that there are only three degrees of freedom to describe orientation, none of the representation methods form a global, minimum representation. Some behave like vector spaces, but are only local charts (e.g. Euler anges, Rodriguez) and others are global but are embedded in a higher dimensional space (e.g. rotation matrices, unit quaternions).\n",
    "\n",
    "Here we will explore some of the most common methods for representing attitude and touch on their pros and cons. Much of this material is based on Shuster's work in\n",
    " * Shuster, M. D. (1993). A Survey of attitude representations. The Journal of the Astronautical Sciences, 1(4), 439–517."
   ]
  },
  {
   "cell_type": "markdown",
   "metadata": {},
   "source": [
    "## The $SO(3)$ Manifold"
   ]
  },
  {
   "cell_type": "code",
   "execution_count": null,
   "metadata": {},
   "outputs": [],
   "source": [
    "%matplotlib notebook\n",
    "import random\n",
    "import numpy as np\n",
    "import matplotlib.pyplot as plt\n",
    "import pickle\n",
    "from mpl_toolkits import mplot3d\n",
    "from matplotlib.widgets import Slider\n",
    "\n",
    "class Attitude:\n",
    "    # This class will be used to convert between the many methods of representing attitude.\n",
    "    # The base internal representation will be a rotation matrix, as it has the fewest\n",
    "    # caveats and conversion to and from the rotation matrix is well understood.\n",
    "    def __init__(self, R=np.eye(3)):\n",
    "        self.R = R\n",
    "        self.init_visualization()\n",
    "    \n",
    "    @staticmethod\n",
    "    def identity():\n",
    "        return Attitude()\n",
    "    \n",
    "    def set_rotation_matrix(self, R):\n",
    "        self.R = R\n",
    "        self.update_vis()\n",
    "        \n",
    "    def set_euler_angles(self, phi, theta, psi, order='321'):\n",
    "        # Note: these are passive notations\n",
    "        c = np.cos\n",
    "        s = np.sin\n",
    "        rot_1 = lambda x: np.array([[1,     0,    0],\n",
    "                                    [0,  c(x), s(x)],\n",
    "                                    [0, -s(x), c(x)]])\n",
    "        rot_2 = lambda x: np.array([[c(x), 0, -s(x)],\n",
    "                                    [   0, 1,     0],\n",
    "                                    [s(x), 0,  c(x)]])\n",
    "        rot_3 = lambda x: np.array([[ c(x), s(x), 0],\n",
    "                                    [-s(x), c(x), 0],\n",
    "                                    [   0,     0, 1]])\n",
    "        rots = {\"1\":rot_1, \"2\":rot_2, \"3\":rot_3}\n",
    "        order = list(order)\n",
    "        R = np.eye(3)\n",
    "        R = rots[order[0]](psi).dot(R)\n",
    "        R = rots[order[1]](theta).dot(R)\n",
    "        R = rots[order[2]](phi).dot(R)\n",
    "        self.set_rotation_matrix(R)\n",
    "        \n",
    "    def init_visualization(self):\n",
    "        # load and draw the plane\n",
    "        self._plane = pickle.load(open(\"files/T38.p\", \"rb\"))\n",
    "        self._figure = plt.figure()\n",
    "        self._axes = mplot3d.Axes3D(self._figure)\n",
    "        scale = self._plane.points/np.max(self._plane.points).flatten()\n",
    "        self._base_R = np.array([[0, 0, 1],\n",
    "                                 [1, 0, 0],\n",
    "                                 [0, -1, 0]])\n",
    "        R = self.R.T.dot(self._base_R)\n",
    "        vectors = np.einsum('ij,...j->...i', R, self._plane.vectors)/np.max(self._plane.points)\n",
    "        self._faces = mplot3d.art3d.Poly3DCollection(vectors)\n",
    "        self._faces.set_facecolor((0,0,1))\n",
    "        self._faces.set_edgecolor((0.3, 0.3, 0.6))\n",
    "        self._axes.add_collection3d(self._faces)\n",
    "        self._axes.auto_scale_xyz(scale, scale, scale)\n",
    "        self._axes.set_xlabel('North')\n",
    "        self._axes.set_ylabel('East')\n",
    "        self._axes.set_zlabel('Down')\n",
    "        self._axes.invert_zaxis()\n",
    "        \n",
    "        # draw the inertial frame\n",
    "        self._axes.quiver([0,0,0],[0,0,0],[0,0,0],#[-1,-1,-1],[1,1,1],[1,1,1],\n",
    "                    [1,0,0],[0,1,0],[0,0,1], \n",
    "                    colors=['r','g','b','r','r','g','g','b','b'], pivot='tail')\n",
    "        \n",
    "        # make some interactive sliders\n",
    "        ax_yaw = plt.axes([0.25, 0.1, 0.65, 0.03])\n",
    "        self._yaw_slider = Slider(ax_yaw, 'Yaw', -np.pi, np.pi, valinit=0)\n",
    "        self._yaw_slider.on_changed(self.slider_update)\n",
    "        \n",
    "        # save the axes for later reference\n",
    "#         self._axes = axes\n",
    "\n",
    "    def slider_update(self, val):\n",
    "        yaw = self._yaw_slider.val\n",
    "        self.set_euler_angles(0, 0, yaw)\n",
    "        \n",
    "    def update_vis(self):\n",
    "        R = self.R.dot(self._base_R)\n",
    "        vectors = np.einsum('ij,...j->...i', R, self._plane.vectors)/np.max(self._plane.points)\n",
    "        self._faces.set_verts(vectors)\n",
    "#         self._figure.canvas.draw_idle()\n",
    "    \n",
    "    def show(self):\n",
    "        self._figure.show()\n",
    "        "
   ]
  },
  {
   "cell_type": "code",
   "execution_count": null,
   "metadata": {},
   "outputs": [],
   "source": [
    "att = Attitude()\n",
    "att.show()"
   ]
  },
  {
   "cell_type": "markdown",
   "metadata": {},
   "source": [
    "## Rotation Matrices"
   ]
  },
  {
   "cell_type": "markdown",
   "metadata": {},
   "source": [
    "## Euler Angles"
   ]
  },
  {
   "cell_type": "markdown",
   "metadata": {},
   "source": [
    "## Axis-Azimuth"
   ]
  },
  {
   "cell_type": "markdown",
   "metadata": {},
   "source": [
    "## Unit Quaternion"
   ]
  },
  {
   "cell_type": "markdown",
   "metadata": {},
   "source": [
    "The unit quaternion, sometimes called *Euler-Rodrigues symmetric parameters*, *Euler symmetric parameters*, or the *quaternion of rotation*, is a four-dimensional representation of attitude.\n",
    "\n",
    "We shall represent quaternions using the Hamiltonian Notation as\n",
    "$$\n",
    "\\mathbf{q} = q_w + q_x i + q_y j + q_z k = \\begin{bmatrix}q_w & \\bar{\\mathbf{q}} \\end{bmatrix}^\\top\n",
    "$$\n",
    "where $q_w$ is commonly called the *scalar part* and $\\bar{\\mathbf{q}}$ the *vector part* of the quaternion. For the quaternion to represent an attitude, we must enforce the constraint that the quaternion be of unit norm, i.e\n",
    "\n",
    "$$\n",
    "\\|\\mathbf{q}\\| = 1\n",
    "$$\n",
    "\n",
    "Here is a reasonable treatment of the difference between the [Hamiltonian and JPL conventions](https://fzheng.me/2017/11/12/quaternion_conventions_en/). Note that Shuster uses the JPL convention.\n",
    "\n",
    "The set of all quaternions, $\\mathbb{H}$, is analagous to the complex numbers, $\\mathbb{C}$, where\n",
    "\n",
    "$$\n",
    "i^2 = j^2 = k^2 = ijk = -1.\n",
    "$$\n",
    "\n",
    "While unit quaternions do not suffer from a singularity, they are a double cover of $SO(3)$, where $\\mathbf{q}$ and $-\\mathbf{q}$ correspond to the same attitude.\n",
    "\n",
    "Unit quaternions form a Lie group, with operator\n",
    "$$\n",
    "\\mathbf{r} = \\mathbf{p} \\otimes \\mathbf{q} = \\begin{bmatrix}p_{w} & -\\bar{\\boldsymbol{p}}^{\\top}\\\\\n",
    "\\bar{\\boldsymbol{p}} & p_{w}{\\bf I}+\\left\\lfloor \\bar{\\boldsymbol{p}}\\right\\rfloor \n",
    "\\end{bmatrix}\\begin{bmatrix}q_{w}\\\\\n",
    "\\bar{\\boldsymbol{q}}\n",
    "\\end{bmatrix}\n",
    "$$"
   ]
  },
  {
   "cell_type": "code",
   "execution_count": null,
   "metadata": {},
   "outputs": [],
   "source": []
  }
 ],
 "metadata": {
  "kernelspec": {
   "display_name": "Python 3",
   "language": "python",
   "name": "python3"
  },
  "language_info": {
   "codemirror_mode": {
    "name": "ipython",
    "version": 3
   },
   "file_extension": ".py",
   "mimetype": "text/x-python",
   "name": "python",
   "nbconvert_exporter": "python",
   "pygments_lexer": "ipython3",
   "version": "3.5.2"
  },
  "varInspector": {
   "cols": {
    "lenName": 16,
    "lenType": 16,
    "lenVar": 40
   },
   "kernels_config": {
    "python": {
     "delete_cmd_postfix": "",
     "delete_cmd_prefix": "del ",
     "library": "var_list.py",
     "varRefreshCmd": "print(var_dic_list())"
    },
    "r": {
     "delete_cmd_postfix": ") ",
     "delete_cmd_prefix": "rm(",
     "library": "var_list.r",
     "varRefreshCmd": "cat(var_dic_list()) "
    }
   },
   "types_to_exclude": [
    "module",
    "function",
    "builtin_function_or_method",
    "instance",
    "_Feature"
   ],
   "window_display": false
  }
 },
 "nbformat": 4,
 "nbformat_minor": 2
}
